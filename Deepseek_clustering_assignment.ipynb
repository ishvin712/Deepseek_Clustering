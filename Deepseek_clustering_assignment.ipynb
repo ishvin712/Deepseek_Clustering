{
  "nbformat": 4,
  "nbformat_minor": 0,
  "metadata": {
    "colab": {
      "provenance": [],
      "include_colab_link": true
    },
    "kernelspec": {
      "name": "python3",
      "display_name": "Python 3"
    },
    "language_info": {
      "name": "python"
    }
  },
  "cells": [
    {
      "cell_type": "markdown",
      "metadata": {
        "id": "view-in-github",
        "colab_type": "text"
      },
      "source": [
        "<a href=\"https://colab.research.google.com/github/ishvin712/Deepseek_Clustering/blob/main/Deepseek_clustering_assignment.ipynb\" target=\"_parent\"><img src=\"https://colab.research.google.com/assets/colab-badge.svg\" alt=\"Open In Colab\"/></a>"
      ]
    },
    {
      "cell_type": "code",
      "execution_count": null,
      "metadata": {
        "colab": {
          "base_uri": "https://localhost:8080/"
        },
        "id": "VIBPVoaKP4g0",
        "outputId": "760d76c4-65c9-45b2-82df-36f6e4bd9116"
      },
      "outputs": [
        {
          "output_type": "stream",
          "name": "stdout",
          "text": [
            "Requirement already satisfied: scikit-learn in /usr/local/lib/python3.11/dist-packages (1.6.1)\n",
            "Requirement already satisfied: pandas in /usr/local/lib/python3.11/dist-packages (2.2.2)\n",
            "Requirement already satisfied: numpy in /usr/local/lib/python3.11/dist-packages (2.0.2)\n",
            "Requirement already satisfied: matplotlib in /usr/local/lib/python3.11/dist-packages (3.10.0)\n",
            "Requirement already satisfied: seaborn in /usr/local/lib/python3.11/dist-packages (0.13.2)\n",
            "Requirement already satisfied: scipy>=1.6.0 in /usr/local/lib/python3.11/dist-packages (from scikit-learn) (1.14.1)\n",
            "Requirement already satisfied: joblib>=1.2.0 in /usr/local/lib/python3.11/dist-packages (from scikit-learn) (1.4.2)\n",
            "Requirement already satisfied: threadpoolctl>=3.1.0 in /usr/local/lib/python3.11/dist-packages (from scikit-learn) (3.6.0)\n",
            "Requirement already satisfied: python-dateutil>=2.8.2 in /usr/local/lib/python3.11/dist-packages (from pandas) (2.8.2)\n",
            "Requirement already satisfied: pytz>=2020.1 in /usr/local/lib/python3.11/dist-packages (from pandas) (2025.2)\n",
            "Requirement already satisfied: tzdata>=2022.7 in /usr/local/lib/python3.11/dist-packages (from pandas) (2025.2)\n",
            "Requirement already satisfied: contourpy>=1.0.1 in /usr/local/lib/python3.11/dist-packages (from matplotlib) (1.3.2)\n",
            "Requirement already satisfied: cycler>=0.10 in /usr/local/lib/python3.11/dist-packages (from matplotlib) (0.12.1)\n",
            "Requirement already satisfied: fonttools>=4.22.0 in /usr/local/lib/python3.11/dist-packages (from matplotlib) (4.57.0)\n",
            "Requirement already satisfied: kiwisolver>=1.3.1 in /usr/local/lib/python3.11/dist-packages (from matplotlib) (1.4.8)\n",
            "Requirement already satisfied: packaging>=20.0 in /usr/local/lib/python3.11/dist-packages (from matplotlib) (24.2)\n",
            "Requirement already satisfied: pillow>=8 in /usr/local/lib/python3.11/dist-packages (from matplotlib) (11.1.0)\n",
            "Requirement already satisfied: pyparsing>=2.3.1 in /usr/local/lib/python3.11/dist-packages (from matplotlib) (3.2.3)\n",
            "Requirement already satisfied: six>=1.5 in /usr/local/lib/python3.11/dist-packages (from python-dateutil>=2.8.2->pandas) (1.17.0)\n"
          ]
        }
      ],
      "source": [
        "# Install required libraries\n",
        "!pip install scikit-learn pandas numpy matplotlib seaborn\n",
        "\n",
        "import pandas as pd\n",
        "import numpy as np\n",
        "from sklearn.datasets import load_iris\n",
        "from sklearn.preprocessing import StandardScaler\n",
        "from sklearn.decomposition import PCA\n",
        "from sklearn.cluster import KMeans, AgglomerativeClustering\n",
        "from sklearn.metrics import silhouette_score, calinski_harabasz_score, davies_bouldin_score\n",
        "import matplotlib.pyplot as plt\n",
        "import seaborn as sns"
      ]
    },
    {
      "cell_type": "code",
      "source": [
        "\n",
        "# Load dataset\n",
        "iris = load_iris()\n",
        "X = iris.data\n",
        "y = iris.target"
      ],
      "metadata": {
        "id": "OwQbGewLP8QA"
      },
      "execution_count": null,
      "outputs": []
    },
    {
      "cell_type": "code",
      "source": [
        "# Preprocessing methods\n",
        "preprocess_methods = {\n",
        "    'No Data Processing': X,\n",
        "    'Using Normalization': StandardScaler().fit_transform(X),\n",
        "    'Using PCA': PCA(n_components=2).fit_transform(X),\n",
        "    'Using T+N': PCA(n_components=2).fit_transform(StandardScaler().fit_transform(X)),\n",
        "}\n"
      ],
      "metadata": {
        "id": "xtjGjyTNQDnG"
      },
      "execution_count": null,
      "outputs": []
    },
    {
      "cell_type": "code",
      "source": [
        "\n",
        "# Clustering algorithms and parameters\n",
        "algorithms = {\n",
        "    'K-Means': KMeans,\n",
        "    'Hierarchical': AgglomerativeClustering,\n",
        "}\n",
        "\n",
        "n_clusters_list = [3, 4, 5]\n"
      ],
      "metadata": {
        "id": "ReDa__2dQGxu"
      },
      "execution_count": null,
      "outputs": []
    },
    {
      "cell_type": "code",
      "source": [
        "\n",
        "# Evaluate clustering performance\n",
        "results = []\n",
        "for preprocess_name, X_processed in preprocess_methods.items():\n",
        "    for algo_name, algo in algorithms.items():\n",
        "        for c in n_clusters_list:\n",
        "            model = algo(n_clusters=c)\n",
        "            labels = model.fit_predict(X_processed)\n",
        "            if len(np.unique(labels)) < 2:\n",
        "                scores = {'Silhouette': np.nan, 'Calinski-Harabasz': np.nan, 'Davies-Bouldins': np.nan}\n",
        "            else:\n",
        "                scores = {\n",
        "                    'Silhouette': silhouette_score(X_processed, labels),\n",
        "                    'Calinski-Harabasz': calinski_harabasz_score(X_processed, labels),\n",
        "                    'Davies-Bouldins': davies_bouldin_score(X_processed, labels),\n",
        "                }\n",
        "            results.append({\n",
        "                'Algorithm': algo_name,\n",
        "                'Preprocessing': preprocess_name,\n",
        "                'Clusters': c,\n",
        "                **scores\n",
        "            })\n",
        "\n",
        "# Convert results to DataFrame\n",
        "results_df = pd.DataFrame(results)"
      ],
      "metadata": {
        "id": "L9hlN4tnQLTj"
      },
      "execution_count": null,
      "outputs": []
    },
    {
      "cell_type": "code",
      "source": [
        "\n",
        "# Generate pivot tables\n",
        "silhouette_table = results_df.pivot_table(index=['Algorithm', 'Preprocessing'], columns='Clusters', values='Silhouette')\n",
        "calinski_table = results_df.pivot_table(index=['Algorithm', 'Preprocessing'], columns='Clusters', values='Calinski-Harabasz')\n",
        "davies_table = results_df.pivot_table(index=['Algorithm', 'Preprocessing'], columns='Clusters', values='Davies-Bouldins')"
      ],
      "metadata": {
        "id": "2z1Ukp-jQNNM"
      },
      "execution_count": null,
      "outputs": []
    },
    {
      "cell_type": "code",
      "source": [
        "\n",
        "# Display results\n",
        "print(\"Silhouette Scores:\\n\", silhouette_table)\n",
        "print(\"\\nCalinski-Harabasz Scores:\\n\", calinski_table)\n",
        "print(\"\\nDavies-Bouldin Scores:\\n\", davies_table)\n"
      ],
      "metadata": {
        "colab": {
          "base_uri": "https://localhost:8080/"
        },
        "id": "PLvwmlJNQOwV",
        "outputId": "b99bc204-6644-4036-f541-e8fc69644ef3"
      },
      "execution_count": null,
      "outputs": [
        {
          "output_type": "stream",
          "name": "stdout",
          "text": [
            "Silhouette Scores:\n",
            " Clusters                                 3         4         5\n",
            "Algorithm    Preprocessing                                    \n",
            "Hierarchical No Data Processing   0.554324  0.488967  0.484383\n",
            "             Using Normalization  0.446689  0.400636  0.330587\n",
            "             Using PCA            0.598475  0.540977  0.548784\n",
            "             Using T+N            0.511060  0.448735  0.404169\n",
            "K-Means      No Data Processing   0.552819  0.496251  0.450033\n",
            "             Using Normalization  0.456535  0.400798  0.341947\n",
            "             Using PCA            0.597676  0.559111  0.508971\n",
            "             Using T+N            0.505196  0.474424  0.412758\n",
            "\n",
            "Calinski-Harabasz Scores:\n",
            " Clusters                                   3           4           5\n",
            "Algorithm    Preprocessing                                          \n",
            "Hierarchical No Data Processing   558.058041  515.078906  488.484904\n",
            "             Using Normalization  222.719164  201.251454  192.681283\n",
            "             Using PCA            688.617548  673.946264  665.883112\n",
            "             Using T+N            286.328664  254.090094  254.996196\n",
            "K-Means      No Data Processing   561.627757  529.214768  459.108397\n",
            "             Using Normalization  239.484532  204.932185  203.268233\n",
            "             Using PCA            693.708433  718.374055  641.505398\n",
            "             Using T+N            293.233075  262.307681  276.686819\n",
            "\n",
            "Davies-Bouldin Scores:\n",
            " Clusters                                 3         4         5\n",
            "Algorithm    Preprocessing                                    \n",
            "Hierarchical No Data Processing   0.656256  0.795264  0.820417\n",
            "             Using Normalization  0.803467  0.978821  0.974249\n",
            "             Using PCA            0.560496  0.654624  0.652573\n",
            "             Using T+N            0.705430  0.722612  0.791250\n",
            "K-Means      No Data Processing   0.661972  0.759551  0.928326\n",
            "             Using Normalization  0.827512  0.840741  0.953046\n",
            "             Using PCA            0.564816  0.604242  0.747020\n",
            "             Using T+N            0.713491  0.741257  0.779227\n"
          ]
        }
      ]
    },
    {
      "cell_type": "code",
      "source": [
        "\n",
        "# Best configuration\n",
        "best_row = results_df.loc[results_df['Silhouette'].idxmax()]\n",
        "print(\"\\nBest Configuration:\\n\", best_row)"
      ],
      "metadata": {
        "colab": {
          "base_uri": "https://localhost:8080/"
        },
        "id": "SWJkCOY3QQ30",
        "outputId": "350f2959-ff81-468e-ba66-cc511c9016cb"
      },
      "execution_count": null,
      "outputs": [
        {
          "output_type": "stream",
          "name": "stdout",
          "text": [
            "\n",
            "Best Configuration:\n",
            " Algorithm            Hierarchical\n",
            "Preprocessing           Using PCA\n",
            "Clusters                        3\n",
            "Silhouette               0.598475\n",
            "Calinski-Harabasz      688.617548\n",
            "Davies-Bouldins          0.560496\n",
            "Name: 15, dtype: object\n"
          ]
        }
      ]
    }
  ]
}